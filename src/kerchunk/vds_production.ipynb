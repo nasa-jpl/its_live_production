{
 "cells": [
  {
   "cell_type": "markdown",
   "id": "cb820b9c-63db-4c10-a82b-cac359591516",
   "metadata": {},
   "source": [
    "# Producing virtual datacube catalogs for ITS_LIVE granules"
   ]
  },
  {
   "cell_type": "markdown",
   "id": "abfb5498-9d35-4119-bcb6-5146cd2fd725",
   "metadata": {},
   "source": [
    "This notebook will describe a general overview of the process used to design and build the catalogs of kerchunk references for the ITS_LIVE velocity granules."
   ]
  },
  {
   "cell_type": "markdown",
   "id": "b3ab4726-197a-44b3-ad26-c419619beeab",
   "metadata": {},
   "source": [
    "## Data Preparation\n",
    "We will use one year of Sentinel-1 (2020), which contains 96,800 granules. Note that the granule urls are pre-sorted along a spatial index (in this case, geohash tiles), this is a crucial pre-requisite and will be discussed in more detail later on. "
   ]
  },
  {
   "cell_type": "code",
   "execution_count": 1,
   "id": "34a97c97-cba1-4425-9411-aa323ccb1b11",
   "metadata": {},
   "outputs": [],
   "source": [
    "import json\n",
    "import geopandas as gpd\n",
    "import pandas as pd\n",
    "import numpy as np\n",
    "from pathlib import Path\n",
    "from tqdm.notebook import tqdm\n",
    "from gen_refs import process_granules\n",
    "\n",
    "urls = Path(\"data/urls.txt\").read_text().split(\"\\n\")\n",
    "batch_size = 100\n",
    "nbatches = len(urls) // batch_size"
   ]
  },
  {
   "cell_type": "markdown",
   "id": "69db2f0a-27c3-4e1a-95a5-b105786701ae",
   "metadata": {},
   "source": [
    "Note: Running the below cell takes about a day on a 1 Gbps home internet connection."
   ]
  },
  {
   "cell_type": "code",
   "execution_count": null,
   "id": "f81f3148-3ff9-4489-a060-eaf14c2f7a17",
   "metadata": {},
   "outputs": [],
   "source": [
    "for i in tqdm(range(nbatches)):\n",
    "    start = i*100\n",
    "    end = (i+1)*100\n",
    "    data = process_granules(urls[start:end])\n",
    "    Path(f\"refs_json/{i}.json\").write_text(json.dumps(data))"
   ]
  },
  {
   "cell_type": "markdown",
   "id": "f89f8bf0-30e5-4451-9615-1e83c29e5fd0",
   "metadata": {},
   "source": [
    "## Catalog Structure\n",
    "The catalog *mostly* is compliant with the [GeoParquet specification](https://github.com/stac-utils/stac-geoparquet/blob/main/spec/stac-geoparquet-spec.md), where most rows correspond to individual STAC items representing each image pair granule. This was chosen to help lay the groundwork for representing the ITS_LIVE data inside STAC catalogs, and making granules searchable by metadata values would be useful for generating virtual datacubes on the fly. \n",
    "\n",
    "There is no official community standard for embedding kerchunk references inside of a STAC item. [xstac](https://github.com/stac-utils/stac-geoparquet/blob/main/spec/stac-geoparquet-spec.md) has one possible implementation in which individual pieces of the references are split into different columns, but the catalogs generated here just use a single column for the entire kerchunk JSON blobs of each granule. This is probably not the most optimal choice, and some further consideration should be made about how to avoid duplicate storage of metadata inside the STAC item and kerchunk reference data. However this approach has the benefit of simplicity and avoids additional overhead of having to piece the references data back into a form that can be used as an fsspec reference filesystem. \n",
    "\n",
    "Below we will generate a sample catalog of the ~100k 2020 S1 granules, first opening the references we generated and converting them to STAC items:"
   ]
  },
  {
   "cell_type": "code",
   "execution_count": 2,
   "id": "408dc723-d004-4b70-8b02-67be74b46d7f",
   "metadata": {},
   "outputs": [
    {
     "data": {
      "application/vnd.jupyter.widget-view+json": {
       "model_id": "a4e40589498946dc9a4e69cd4025c8e0",
       "version_major": 2,
       "version_minor": 0
      },
      "text/plain": [
       "  0%|          | 0/968 [00:00<?, ?it/s]"
      ]
     },
     "metadata": {},
     "output_type": "display_data"
    }
   ],
   "source": [
    "from gran_to_cat import refs_to_stac_item\n",
    "import stac_geoparquet\n",
    "\n",
    "items = []\n",
    "refs = []\n",
    "for i in tqdm(range(nbatches)):\n",
    "    refs_ = list(json.loads(Path(f\"refs_json/{i}.json\").read_text()).values())\n",
    "    items_ = [refs_to_stac_item(r) for r in refs_]\n",
    "    for r, item in zip(refs_, items_):\n",
    "        refs.append(json.dumps(r).encode())\n",
    "        # Note that when saving the STAC Geoparquet with the assets, the file size explodes and\n",
    "        # arrow ends up expanding them into excessive columns. This means our catalog effectively\n",
    "        # no longer contains true STAC items but for our current purposes they aren't needed. \n",
    "        # This should be fixed at some point since we want the references to eventually coexist\n",
    "        # with an actual STAC catalog.\n",
    "        del item[\"assets\"]\n",
    "        items.append(item)"
   ]
  },
  {
   "cell_type": "markdown",
   "id": "e61bac8e-15ef-4610-832a-3aa807c90bbd",
   "metadata": {},
   "source": [
    "To create the initial STAC GeoParquet catalog:"
   ]
  },
  {
   "cell_type": "code",
   "execution_count": 3,
   "id": "9f537cd2-3674-4ecc-82fd-21793c8aff8d",
   "metadata": {},
   "outputs": [],
   "source": [
    "table = stac_geoparquet.arrow.parse_stac_items_to_arrow(items)"
   ]
  },
  {
   "cell_type": "markdown",
   "id": "099846f9-1544-49ed-a3e4-2387729cb05a",
   "metadata": {},
   "source": [
    "ITS_LIVE archives granules generated from multiple satellites (Landsat, Sentinel 1 & 2) and a complete catalog would span tens of millions of granules. The total size of the raw kerchunk reference data alone could easily reach dozens of gigabytes in size, therefore the catalog needs to support some form of random access which avoids the need to load the entire thing into memory before a query gets processed. The parquet format supports this via *partitions* (datasets spanned by multiple parquet files), and individual files can be subdivided further into smaller logical chunks of data called *row groups*. \n",
    "\n",
    "Because our data has space and time dimensions, we may so choose to partition into either spatial or temporal bins. Optimally partitioning the catalog is the most challenging part of this process because the data is not uniformly distributed in space or time, so a production ready implementation would most likely not have evenly spaced bins in the dimensions of choice. I have tested two partitioning approaches, one with simple temporal partitioning (binned by each year) and another with a more complex spatial partitioning scheme in which all granules that intersect a partition's bounding box are included. This latter approach makes it easy to pre-filter our queries by dropping partitions that do not intersect the query's bounding box, but suffers from granules needing to be duplicated across multiple partitions. As a result I currently prefer and recommend the temporal approach. However some clever pre-filtering of the data is necessary for efficient spatial queries.\n",
    "\n",
    "Below we will save the catalog with a hive partition scheme, partitioning by year:"
   ]
  },
  {
   "cell_type": "code",
   "execution_count": 4,
   "id": "7abf51b6-ce8a-498f-a8d3-6f1733489631",
   "metadata": {},
   "outputs": [],
   "source": [
    "pq_file = \"refs_stac_sentinel1/year=2020/refs_2020.parquet\"\n",
    "stac_geoparquet.arrow.to_parquet(\n",
    "    table, \n",
    "    pq_file, \n",
    "    compression=\"ZSTD\", write_statistics=False\n",
    ")"
   ]
  },
  {
   "cell_type": "markdown",
   "id": "ddaf96ae-4289-4c0f-a45f-52fe6238b0f7",
   "metadata": {},
   "source": [
    "## Optimizing Spatial Queries\n",
    "Queries to the catalog will require a set of spatial bounds, but having the data grouped by temporal bins alone is not sufficient for optimal queries. Ideally, the rows of the catalog should include data that are close to each other in both time and space, so the entries also need to be sorted along a spatial index, and potentially subdivided further into separate blocks. There are many methods that can be used to spatially sort the data, but here I choose to use simple geohashing to presort all data in an individual partition, then split the data further into individual row groups of 1000. Generally larger row group sizes (at least 10000) are recommended, but this number was chosen for now because the S1 data used in this example resulted in a smaller number of geohash tiles in each row group.\n",
    "\n",
    "Now we will proceed to add the kerchunk references to the catalog and save it with a row group size of 1000. The data for this were already sorted along geohash precision 2 tiles. In principle, we could sort the data *after* generating the catalog, but this is highly inefficient. Ideally, it would be best to determine the boundaries of each spatial partition / tile in advance, then find the URLs of each granule whose center lat/lons are contained in them via an existing database search. Then the URLs can be individually cataloged in the process shown above and then combined into a single parquet file per temporal partition."
   ]
  },
  {
   "cell_type": "code",
   "execution_count": 5,
   "id": "e9dc9f55-4fbe-40ce-85c0-aa8d182099eb",
   "metadata": {},
   "outputs": [],
   "source": [
    "df = gpd.read_parquet(pq_file)\n",
    "df[\"kerchunk\"] = refs\n",
    "df[\"attrs\"] = [json.loads(json.loads(r)[\"refs\"][\".zattrs\"]) for r in refs]\n",
    "rg_size = 1000\n",
    "df.to_parquet(\n",
    "    pq_file, \n",
    "    compression=\"ZSTD\", \n",
    "    row_group_size=rg_size, \n",
    "    write_statistics=[\"datetime\"]\n",
    ")"
   ]
  },
  {
   "cell_type": "markdown",
   "id": "76656c28-9d4d-4845-88ab-e98ad19862a4",
   "metadata": {},
   "source": [
    "## Prefiltering\n",
    "Previously we discribed how to subdivide the catalog into small manageable chunks that represent data that are close together in space. Most parquet reading tools support a form of prefiltering data based on partition and row group statistics (called predicate pushdown), however these libraries cannot natively apply spatial filters (eg intersection and contains operations on bounding boxes). Instead, we need to do this ourselves manually. The virtual_cubes.py code expects the catalog to contain not only the partitioned STAC GeoParquet catalog, but also a separate `.row_groups.parquet` table. The rows in this table correspond to the row group indices, and the values are the merged geometry of all granules contained in the row group. Then querying the catalog involves two steps: Determining which partitions and row group indices to load based on the provided time range and bounding box, and then applying filtering (potentially based on metadata values).\n",
    "\n",
    "The process for generating this row groups geometry table is implemented as follows. First, we will load the geometries for all of the granules in the dataset in one go. To do this in the most efficient way we can open the partitioned dataset from the top level directory to read all partitions at once. Currently in this example we have just one partition, but this will extend seamlessly once the data is fully populated with all parititions."
   ]
  },
  {
   "cell_type": "code",
   "execution_count": 7,
   "id": "d5980064-fb8f-43c7-be64-58a888051bc5",
   "metadata": {},
   "outputs": [],
   "source": [
    "geoms = gpd.read_parquet(\"refs_stac_sentinel1/\", columns=[\"geometry\", \"year\"])"
   ]
  },
  {
   "cell_type": "markdown",
   "id": "77aa0aed-9a0f-471d-ad4a-d5a5a2a08412",
   "metadata": {},
   "source": [
    "Since we know that all row_groups have a fixed size of 1000, we can now assign unique groups to all of the granules based on the relative row group index in the partition, and the partition label (year in this case)."
   ]
  },
  {
   "cell_type": "code",
   "execution_count": 8,
   "id": "63d009a6-a615-4106-aef6-9eb004bf441c",
   "metadata": {},
   "outputs": [
    {
     "name": "stderr",
     "output_type": "stream",
     "text": [
      "/var/folders/xp/q52ryy9976x7d4b9w9q8tpr9ptwmb3/T/ipykernel_71548/3477267058.py:4: FutureWarning: The default of observed=False is deprecated and will be changed to True in a future version of pandas. Pass observed=False to retain current behavior or observed=True to adopt the future default and silence this warning.\n",
      "  gb = geoms.groupby(by=[\"year\", \"index\"])\n"
     ]
    }
   ],
   "source": [
    "year = np.array(geoms.year)\n",
    "rg_index = geoms.index // rg_size\n",
    "geoms[\"index\"] = rg_index\n",
    "gb = geoms.groupby(by=[\"year\", \"index\"])"
   ]
  },
  {
   "cell_type": "markdown",
   "id": "8b86fb9a-1774-4094-ba1e-e56f869c421c",
   "metadata": {},
   "source": [
    "Finally we merge all the geometries of each group together, this gives us another GeoParquet table which has the complete polygon domain for all granules in a row group."
   ]
  },
  {
   "cell_type": "code",
   "execution_count": 10,
   "id": "5956584a-6c82-4854-83cc-e02a8946fda6",
   "metadata": {},
   "outputs": [
    {
     "name": "stderr",
     "output_type": "stream",
     "text": [
      "/var/folders/xp/q52ryy9976x7d4b9w9q8tpr9ptwmb3/T/ipykernel_71548/2900963401.py:3: FutureWarning: The default of observed=False is deprecated and will be changed to True in a future version of pandas. Pass observed=False to retain current behavior or observed=True to adopt the future default and silence this warning.\n",
      "  offsets = rg_geoms.groupby(\"year\").apply(lambda x: x[\"index\"].min())\n",
      "/var/folders/xp/q52ryy9976x7d4b9w9q8tpr9ptwmb3/T/ipykernel_71548/2900963401.py:3: DeprecationWarning: DataFrameGroupBy.apply operated on the grouping columns. This behavior is deprecated, and in a future version of pandas the grouping columns will be excluded from the operation. Either pass `include_groups=False` to exclude the groupings or explicitly select the grouping columns after groupby to silence this warning.\n",
      "  offsets = rg_geoms.groupby(\"year\").apply(lambda x: x[\"index\"].min())\n"
     ]
    }
   ],
   "source": [
    "rg_geoms = gb.aggregate(lambda x: x.geometry.unary_union).reset_index()\n",
    "# Make row group indices relative to each paritition rather than entire dataset.\n",
    "offsets = rg_geoms.groupby(\"year\").apply(lambda x: x[\"index\"].min())\n",
    "rg_index_adj = rg_geoms.set_index(\"year\")[\"index\"] - offsets\n",
    "rg_geoms[\"index\"] = rg_index_adj.values\n",
    "rg_geoms.to_parquet(\n",
    "    \"refs_stac_sentinel1/.row_groups.parquet\", \n",
    "    compression=\"ZSTD\",\n",
    "    write_statistics=False\n",
    ")"
   ]
  },
  {
   "cell_type": "markdown",
   "id": "64ef076c-415f-4411-b474-9b4ed16de10e",
   "metadata": {},
   "source": [
    "To illustrate how this works, we can plot the row group boundaries:"
   ]
  },
  {
   "cell_type": "code",
   "execution_count": 14,
   "id": "f13de39a-27f8-4734-9481-f1cb3fe3045b",
   "metadata": {},
   "outputs": [
    {
     "data": {
      "text/plain": [
       "<Axes: >"
      ]
     },
     "execution_count": 14,
     "metadata": {},
     "output_type": "execute_result"
    },
    {
     "data": {
      "image/png": "[encoded data removed]",
      "text/plain": [
       "<Figure size 640x480 with 1 Axes>"
      ]
     },
     "metadata": {},
     "output_type": "display_data"
    }
   ],
   "source": [
    "rg_geoms.set_geometry(\"geometry\").boundary.plot()"
   ]
  },
  {
   "cell_type": "markdown",
   "id": "547832d7-1ce6-40a8-ab11-63e2a5f64335",
   "metadata": {},
   "source": [
    "This completes the production process for one year's worth of S1 granules, and may be repeated for the rest. "
   ]
  }
 ],
 "metadata": {
  "kernelspec": {
   "display_name": "Python 3 (ipykernel)",
   "language": "python",
   "name": "python3"
  },
  "language_info": {
   "codemirror_mode": {
    "name": "ipython",
    "version": 3
   },
   "file_extension": ".py",
   "mimetype": "text/x-python",
   "name": "python",
   "nbconvert_exporter": "python",
   "pygments_lexer": "ipython3",
   "version": "3.10.14"
  }
 },
 "nbformat": 4,
 "nbformat_minor": 5
}
